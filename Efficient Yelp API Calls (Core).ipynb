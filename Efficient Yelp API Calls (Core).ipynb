{
 "cells": [
  {
   "cell_type": "code",
   "execution_count": 94,
   "id": "7ed2db80",
   "metadata": {
    "ExecuteTime": {
     "end_time": "2022-07-29T03:36:16.557657Z",
     "start_time": "2022-07-29T03:36:16.538849Z"
    }
   },
   "outputs": [],
   "source": [
    "import numpy as np\n",
    "import pandas as pd\n",
    "import matplotlib.pyplot as plt\n",
    "import seaborn as sns\n",
    "# Additional Imports\n",
    "import os, json, math, time\n",
    "from yelpapi import YelpAPI\n",
    "from tqdm.notebook import tqdm_notebook\n",
    "\n"
   ]
  },
  {
   "cell_type": "code",
   "execution_count": 95,
   "id": "a6250031",
   "metadata": {
    "ExecuteTime": {
     "end_time": "2022-07-29T03:36:17.017760Z",
     "start_time": "2022-07-29T03:36:17.001860Z"
    }
   },
   "outputs": [],
   "source": [
    "\n",
    "with open('/Users/Alpha/.secret/yelp_api.json') as f:   \n",
    "    login = json.load(f)\n",
    "\n",
    "yelp_api = YelpAPI(login['api-key'], timeout_s=5.0)\n",
    "\n",
    "\n"
   ]
  },
  {
   "cell_type": "code",
   "execution_count": 96,
   "id": "53806873",
   "metadata": {
    "ExecuteTime": {
     "end_time": "2022-07-29T03:36:17.647837Z",
     "start_time": "2022-07-29T03:36:17.630452Z"
    }
   },
   "outputs": [],
   "source": [
    "LOCATION = 'Los Angelese, CA,90001'\n",
    "TERM = 'Caviar'\n",
    "\n"
   ]
  },
  {
   "cell_type": "code",
   "execution_count": 97,
   "id": "045778b8",
   "metadata": {
    "ExecuteTime": {
     "end_time": "2022-07-29T03:36:20.152270Z",
     "start_time": "2022-07-29T03:36:20.141836Z"
    }
   },
   "outputs": [
    {
     "data": {
      "text/plain": [
       "'Data/results_in_progress_Caviar.json'"
      ]
     },
     "execution_count": 97,
     "metadata": {},
     "output_type": "execute_result"
    }
   ],
   "source": [
    "CAVIARJSON_FILE = f\"Data/results_in_progress_Caviar.json\"\n",
    "CAVIARJSON_FILE\n",
    "\n"
   ]
  },
  {
   "cell_type": "code",
   "execution_count": 99,
   "id": "c5cbb528",
   "metadata": {
    "ExecuteTime": {
     "end_time": "2022-07-29T03:37:14.364076Z",
     "start_time": "2022-07-29T03:37:14.342748Z"
    }
   },
   "outputs": [
    {
     "name": "stdout",
     "output_type": "stream",
     "text": [
      "[i] Data/results_in_progress_Caviar.json not found. Saving empty list to file.\n"
     ]
    }
   ],
   "source": [
    "file_exists = os.path.isfile(CAVIARJSON_FILE)\n",
    "\n",
    "if file_exists == False:\n",
    "    \n",
    "    caviarfolder = os.path.dirname(CAVIARJSON_FILE)\n",
    "    \n",
    "    if len(folder)>0:\n",
    "        \n",
    "        os.makedirs(caviarfolder,exist_ok=True)\n",
    "        \n",
    "        \n",
    "    \n",
    "    print(f\"[i] {CAVIARJSON_FILE} not found. Saving empty list to file.\")\n",
    "    \n",
    "    \n",
    "    \n",
    "    with open(CAVIARJSON_FILE,'w') as f:\n",
    "        json.dump([],f)  \n",
    "\n",
    "else:\n",
    "    print(f\"[i] {CAVIARJSON_FILE} already exists.\")\n",
    "\n"
   ]
  },
  {
   "cell_type": "code",
   "execution_count": 100,
   "id": "ba2b07b4",
   "metadata": {
    "ExecuteTime": {
     "end_time": "2022-07-29T03:37:26.757728Z",
     "start_time": "2022-07-29T03:37:26.738383Z"
    }
   },
   "outputs": [
    {
     "name": "stdout",
     "output_type": "stream",
     "text": [
      "- 0 previous results found.\n"
     ]
    }
   ],
   "source": [
    "with open(CAVIARJSON_FILE,'r') as f:\n",
    "    previous_results = json.load(f)\n",
    "    \n",
    "n_results = len(previous_results)\n",
    "print(f'- {n_results} previous results found.')\n",
    "\n"
   ]
  },
  {
   "cell_type": "code",
   "execution_count": 101,
   "id": "735dc743",
   "metadata": {
    "ExecuteTime": {
     "end_time": "2022-07-29T03:37:33.052168Z",
     "start_time": "2022-07-29T03:37:32.136887Z"
    }
   },
   "outputs": [
    {
     "data": {
      "text/plain": [
       "dict_keys(['businesses', 'total', 'region'])"
      ]
     },
     "execution_count": 101,
     "metadata": {},
     "output_type": "execute_result"
    }
   ],
   "source": [
    "results = yelp_api.search_query(location=LOCATION,\n",
    "                                term=TERM,\n",
    "                               offset=n_results)\n",
    "results.keys()\n",
    "\n"
   ]
  },
  {
   "cell_type": "code",
   "execution_count": 102,
   "id": "9ce7704a",
   "metadata": {
    "ExecuteTime": {
     "end_time": "2022-07-29T03:37:36.593642Z",
     "start_time": "2022-07-29T03:37:36.575786Z"
    }
   },
   "outputs": [
    {
     "data": {
      "text/plain": [
       "874"
      ]
     },
     "execution_count": 102,
     "metadata": {},
     "output_type": "execute_result"
    }
   ],
   "source": [
    "total_results = results['total']\n",
    "total_results\n",
    "\n"
   ]
  },
  {
   "cell_type": "code",
   "execution_count": 103,
   "id": "6bee43f4",
   "metadata": {
    "ExecuteTime": {
     "end_time": "2022-07-29T03:37:41.872924Z",
     "start_time": "2022-07-29T03:37:41.853580Z"
    }
   },
   "outputs": [
    {
     "data": {
      "text/plain": [
       "20"
      ]
     },
     "execution_count": 103,
     "metadata": {},
     "output_type": "execute_result"
    }
   ],
   "source": [
    "results_per_page = len(results['businesses'])\n",
    "results_per_page\n",
    "\n"
   ]
  },
  {
   "cell_type": "code",
   "execution_count": 104,
   "id": "a8be76b9",
   "metadata": {
    "ExecuteTime": {
     "end_time": "2022-07-29T03:37:43.735204Z",
     "start_time": "2022-07-29T03:37:43.720349Z"
    }
   },
   "outputs": [
    {
     "data": {
      "text/plain": [
       "44"
      ]
     },
     "execution_count": 104,
     "metadata": {},
     "output_type": "execute_result"
    }
   ],
   "source": [
    "import time, math\n",
    "\n",
    "n_pages = math.ceil((results['total']-n_results)/ results_per_page)\n",
    "n_pages\n",
    "\n"
   ]
  },
  {
   "cell_type": "code",
   "execution_count": 105,
   "id": "0db750c3",
   "metadata": {
    "ExecuteTime": {
     "end_time": "2022-07-29T03:38:36.790283Z",
     "start_time": "2022-07-29T03:38:36.776395Z"
    }
   },
   "outputs": [],
   "source": [
    "previous_results.extend(results['businesses'])  \n",
    "with open(CAVIARJSON_FILE,'w') as f:\n",
    "     json.dump(previous_results,f)\n"
   ]
  },
  {
   "cell_type": "code",
   "execution_count": 106,
   "id": "cb49a9a3",
   "metadata": {
    "ExecuteTime": {
     "end_time": "2022-07-29T03:39:09.510657Z",
     "start_time": "2022-07-29T03:39:00.061047Z"
    }
   },
   "outputs": [
    {
     "data": {
      "application/vnd.jupyter.widget-view+json": {
       "model_id": "b79a53cdb04c41f39700b8357fa6a1fa",
       "version_major": 2,
       "version_minor": 0
      },
      "text/plain": [
       "  0%|          | 0/44 [00:00<?, ?it/s]"
      ]
     },
     "metadata": {},
     "output_type": "display_data"
    }
   ],
   "source": [
    "from tqdm.notebook import tqdm_notebook\n",
    "import time\n",
    "for i in tqdm_notebook(range(n_pages)):\n",
    "    \n",
    "    time.sleep(.2) \n"
   ]
  },
  {
   "cell_type": "code",
   "execution_count": 108,
   "id": "523247d6",
   "metadata": {
    "ExecuteTime": {
     "end_time": "2022-07-29T03:40:37.672249Z",
     "start_time": "2022-07-29T03:39:32.614916Z"
    }
   },
   "outputs": [
    {
     "data": {
      "application/vnd.jupyter.widget-view+json": {
       "model_id": "237a23b98a014250a3b590c08d9a4751",
       "version_major": 2,
       "version_minor": 0
      },
      "text/plain": [
       "  0%|          | 0/44 [00:00<?, ?it/s]"
      ]
     },
     "metadata": {},
     "output_type": "display_data"
    }
   ],
   "source": [
    "for i in tqdm_notebook( range(1,n_pages+1)):\n",
    "    time.sleep(.2)\n",
    "    \n",
    "    with open(CAVIARJSON_FILE, 'r') as f:\n",
    "        previous_results = json.load(f)\n",
    "    \n",
    "    n_results = len(previous_results)\n",
    "     \n",
    "    results = yelp_api.search_query(location=LOCATION,\n",
    "                                    term=TERM, \n",
    "                                    offset=n_results)\n",
    "    \n",
    "    \n",
    "    previous_results.extend(results['businesses'])\n",
    "    \n",
    "\n",
    "    with open(CAVIARJSON_FILE,'w') as f:\n",
    "        json.dump(previous_results,f)\n",
    "\n"
   ]
  },
  {
   "cell_type": "code",
   "execution_count": 109,
   "id": "3ceef550",
   "metadata": {
    "ExecuteTime": {
     "end_time": "2022-07-29T03:42:16.325245Z",
     "start_time": "2022-07-29T03:42:16.242413Z"
    }
   },
   "outputs": [
    {
     "data": {
      "text/html": [
       "<div>\n",
       "<style scoped>\n",
       "    .dataframe tbody tr th:only-of-type {\n",
       "        vertical-align: middle;\n",
       "    }\n",
       "\n",
       "    .dataframe tbody tr th {\n",
       "        vertical-align: top;\n",
       "    }\n",
       "\n",
       "    .dataframe thead th {\n",
       "        text-align: right;\n",
       "    }\n",
       "</style>\n",
       "<table border=\"1\" class=\"dataframe\">\n",
       "  <thead>\n",
       "    <tr style=\"text-align: right;\">\n",
       "      <th></th>\n",
       "      <th>id</th>\n",
       "      <th>alias</th>\n",
       "      <th>name</th>\n",
       "      <th>image_url</th>\n",
       "      <th>is_closed</th>\n",
       "      <th>url</th>\n",
       "      <th>review_count</th>\n",
       "      <th>categories</th>\n",
       "      <th>rating</th>\n",
       "      <th>coordinates</th>\n",
       "      <th>transactions</th>\n",
       "      <th>location</th>\n",
       "      <th>phone</th>\n",
       "      <th>display_phone</th>\n",
       "      <th>distance</th>\n",
       "      <th>price</th>\n",
       "    </tr>\n",
       "  </thead>\n",
       "  <tbody>\n",
       "    <tr>\n",
       "      <th>0</th>\n",
       "      <td>66zSYg4-grtjOCmM5pMXCg</td>\n",
       "      <td>kaviar-sushi-bar-pasadena</td>\n",
       "      <td>Kaviar Sushi Bar</td>\n",
       "      <td>https://s3-media2.fl.yelpcdn.com/bphoto/3S7ebu...</td>\n",
       "      <td>False</td>\n",
       "      <td>https://www.yelp.com/biz/kaviar-sushi-bar-pasa...</td>\n",
       "      <td>419</td>\n",
       "      <td>[{'alias': 'sushi', 'title': 'Sushi Bars'}, {'...</td>\n",
       "      <td>4.5</td>\n",
       "      <td>{'latitude': 34.147067, 'longitude': -118.148588}</td>\n",
       "      <td>[pickup, delivery, restaurant_reservation]</td>\n",
       "      <td>{'address1': '70 N Raymond Ave', 'address2': '...</td>\n",
       "      <td>+16266050330</td>\n",
       "      <td>(626) 605-0330</td>\n",
       "      <td>21661.187105</td>\n",
       "      <td>NaN</td>\n",
       "    </tr>\n",
       "    <tr>\n",
       "      <th>1</th>\n",
       "      <td>UCIxkz2Yd7DdN-Pw24W74A</td>\n",
       "      <td>petrossian-restaurant-and-boutique-west-hollyw...</td>\n",
       "      <td>Petrossian Restaurant &amp; Boutique</td>\n",
       "      <td>https://s3-media2.fl.yelpcdn.com/bphoto/AvQBYH...</td>\n",
       "      <td>False</td>\n",
       "      <td>https://www.yelp.com/biz/petrossian-restaurant...</td>\n",
       "      <td>638</td>\n",
       "      <td>[{'alias': 'french', 'title': 'French'}, {'ali...</td>\n",
       "      <td>4.5</td>\n",
       "      <td>{'latitude': 34.07776, 'longitude': -118.38395}</td>\n",
       "      <td>[delivery]</td>\n",
       "      <td>{'address1': '321 N Robertson Blvd', 'address2...</td>\n",
       "      <td>+13102716300</td>\n",
       "      <td>(310) 271-6300</td>\n",
       "      <td>14756.984713</td>\n",
       "      <td>$$$</td>\n",
       "    </tr>\n",
       "    <tr>\n",
       "      <th>2</th>\n",
       "      <td>sSlFeRTzdCkkLO8mXBQG7Q</td>\n",
       "      <td>marlou-dtla-los-angeles-4</td>\n",
       "      <td>Marlou DTLA</td>\n",
       "      <td>https://s3-media1.fl.yelpcdn.com/bphoto/sbJAK8...</td>\n",
       "      <td>False</td>\n",
       "      <td>https://www.yelp.com/biz/marlou-dtla-los-angel...</td>\n",
       "      <td>104</td>\n",
       "      <td>[{'alias': 'newamerican', 'title': 'American (...</td>\n",
       "      <td>4.5</td>\n",
       "      <td>{'latitude': 34.04688, 'longitude': -118.26067}</td>\n",
       "      <td>[pickup, delivery, restaurant_reservation]</td>\n",
       "      <td>{'address1': '819 S Flower St', 'address2': No...</td>\n",
       "      <td>+12137843048</td>\n",
       "      <td>(213) 784-3048</td>\n",
       "      <td>7333.785641</td>\n",
       "      <td>NaN</td>\n",
       "    </tr>\n",
       "    <tr>\n",
       "      <th>3</th>\n",
       "      <td>us0WnDOySVXXXwCqs0AaCw</td>\n",
       "      <td>izakaya-osen-los-angeles-2</td>\n",
       "      <td>Izakaya Osen</td>\n",
       "      <td>https://s3-media1.fl.yelpcdn.com/bphoto/m2GLJb...</td>\n",
       "      <td>False</td>\n",
       "      <td>https://www.yelp.com/biz/izakaya-osen-los-ange...</td>\n",
       "      <td>1311</td>\n",
       "      <td>[{'alias': 'sushi', 'title': 'Sushi Bars'}, {'...</td>\n",
       "      <td>4.5</td>\n",
       "      <td>{'latitude': 34.08330553596485, 'longitude': -...</td>\n",
       "      <td>[delivery, restaurant_reservation, pickup]</td>\n",
       "      <td>{'address1': '2903 Sunset Blvd', 'address2': '...</td>\n",
       "      <td>+13239282220</td>\n",
       "      <td>(323) 928-2220</td>\n",
       "      <td>11274.145241</td>\n",
       "      <td>$$</td>\n",
       "    </tr>\n",
       "    <tr>\n",
       "      <th>4</th>\n",
       "      <td>teFBnvD8mzpZU4Jo4qm_9Q</td>\n",
       "      <td>absolute-caviar-sherman-oaks</td>\n",
       "      <td>Absolute Caviar</td>\n",
       "      <td>https://s3-media3.fl.yelpcdn.com/bphoto/HZtTdY...</td>\n",
       "      <td>False</td>\n",
       "      <td>https://www.yelp.com/biz/absolute-caviar-sherm...</td>\n",
       "      <td>62</td>\n",
       "      <td>[{'alias': 'gourmet', 'title': 'Specialty Food'}]</td>\n",
       "      <td>5.0</td>\n",
       "      <td>{'latitude': 34.14756167, 'longitude': -118.43...</td>\n",
       "      <td>[delivery, pickup]</td>\n",
       "      <td>{'address1': '13626 Ventura Blvd', 'address2':...</td>\n",
       "      <td>+13236302250</td>\n",
       "      <td>(323) 630-2250</td>\n",
       "      <td>23431.942564</td>\n",
       "      <td>$$$</td>\n",
       "    </tr>\n",
       "  </tbody>\n",
       "</table>\n",
       "</div>"
      ],
      "text/plain": [
       "                       id                                              alias  \\\n",
       "0  66zSYg4-grtjOCmM5pMXCg                          kaviar-sushi-bar-pasadena   \n",
       "1  UCIxkz2Yd7DdN-Pw24W74A  petrossian-restaurant-and-boutique-west-hollyw...   \n",
       "2  sSlFeRTzdCkkLO8mXBQG7Q                          marlou-dtla-los-angeles-4   \n",
       "3  us0WnDOySVXXXwCqs0AaCw                         izakaya-osen-los-angeles-2   \n",
       "4  teFBnvD8mzpZU4Jo4qm_9Q                       absolute-caviar-sherman-oaks   \n",
       "\n",
       "                               name  \\\n",
       "0                  Kaviar Sushi Bar   \n",
       "1  Petrossian Restaurant & Boutique   \n",
       "2                       Marlou DTLA   \n",
       "3                      Izakaya Osen   \n",
       "4                   Absolute Caviar   \n",
       "\n",
       "                                           image_url  is_closed  \\\n",
       "0  https://s3-media2.fl.yelpcdn.com/bphoto/3S7ebu...      False   \n",
       "1  https://s3-media2.fl.yelpcdn.com/bphoto/AvQBYH...      False   \n",
       "2  https://s3-media1.fl.yelpcdn.com/bphoto/sbJAK8...      False   \n",
       "3  https://s3-media1.fl.yelpcdn.com/bphoto/m2GLJb...      False   \n",
       "4  https://s3-media3.fl.yelpcdn.com/bphoto/HZtTdY...      False   \n",
       "\n",
       "                                                 url  review_count  \\\n",
       "0  https://www.yelp.com/biz/kaviar-sushi-bar-pasa...           419   \n",
       "1  https://www.yelp.com/biz/petrossian-restaurant...           638   \n",
       "2  https://www.yelp.com/biz/marlou-dtla-los-angel...           104   \n",
       "3  https://www.yelp.com/biz/izakaya-osen-los-ange...          1311   \n",
       "4  https://www.yelp.com/biz/absolute-caviar-sherm...            62   \n",
       "\n",
       "                                          categories  rating  \\\n",
       "0  [{'alias': 'sushi', 'title': 'Sushi Bars'}, {'...     4.5   \n",
       "1  [{'alias': 'french', 'title': 'French'}, {'ali...     4.5   \n",
       "2  [{'alias': 'newamerican', 'title': 'American (...     4.5   \n",
       "3  [{'alias': 'sushi', 'title': 'Sushi Bars'}, {'...     4.5   \n",
       "4  [{'alias': 'gourmet', 'title': 'Specialty Food'}]     5.0   \n",
       "\n",
       "                                         coordinates  \\\n",
       "0  {'latitude': 34.147067, 'longitude': -118.148588}   \n",
       "1    {'latitude': 34.07776, 'longitude': -118.38395}   \n",
       "2    {'latitude': 34.04688, 'longitude': -118.26067}   \n",
       "3  {'latitude': 34.08330553596485, 'longitude': -...   \n",
       "4  {'latitude': 34.14756167, 'longitude': -118.43...   \n",
       "\n",
       "                                 transactions  \\\n",
       "0  [pickup, delivery, restaurant_reservation]   \n",
       "1                                  [delivery]   \n",
       "2  [pickup, delivery, restaurant_reservation]   \n",
       "3  [delivery, restaurant_reservation, pickup]   \n",
       "4                          [delivery, pickup]   \n",
       "\n",
       "                                            location         phone  \\\n",
       "0  {'address1': '70 N Raymond Ave', 'address2': '...  +16266050330   \n",
       "1  {'address1': '321 N Robertson Blvd', 'address2...  +13102716300   \n",
       "2  {'address1': '819 S Flower St', 'address2': No...  +12137843048   \n",
       "3  {'address1': '2903 Sunset Blvd', 'address2': '...  +13239282220   \n",
       "4  {'address1': '13626 Ventura Blvd', 'address2':...  +13236302250   \n",
       "\n",
       "    display_phone      distance price  \n",
       "0  (626) 605-0330  21661.187105   NaN  \n",
       "1  (310) 271-6300  14756.984713   $$$  \n",
       "2  (213) 784-3048   7333.785641   NaN  \n",
       "3  (323) 928-2220  11274.145241    $$  \n",
       "4  (323) 630-2250  23431.942564   $$$  "
      ]
     },
     "metadata": {},
     "output_type": "display_data"
    },
    {
     "data": {
      "text/html": [
       "<div>\n",
       "<style scoped>\n",
       "    .dataframe tbody tr th:only-of-type {\n",
       "        vertical-align: middle;\n",
       "    }\n",
       "\n",
       "    .dataframe tbody tr th {\n",
       "        vertical-align: top;\n",
       "    }\n",
       "\n",
       "    .dataframe thead th {\n",
       "        text-align: right;\n",
       "    }\n",
       "</style>\n",
       "<table border=\"1\" class=\"dataframe\">\n",
       "  <thead>\n",
       "    <tr style=\"text-align: right;\">\n",
       "      <th></th>\n",
       "      <th>id</th>\n",
       "      <th>alias</th>\n",
       "      <th>name</th>\n",
       "      <th>image_url</th>\n",
       "      <th>is_closed</th>\n",
       "      <th>url</th>\n",
       "      <th>review_count</th>\n",
       "      <th>categories</th>\n",
       "      <th>rating</th>\n",
       "      <th>coordinates</th>\n",
       "      <th>transactions</th>\n",
       "      <th>location</th>\n",
       "      <th>phone</th>\n",
       "      <th>display_phone</th>\n",
       "      <th>distance</th>\n",
       "      <th>price</th>\n",
       "    </tr>\n",
       "  </thead>\n",
       "  <tbody>\n",
       "    <tr>\n",
       "      <th>850</th>\n",
       "      <td>7hD8bI6vU03APVvmdMjWrg</td>\n",
       "      <td>fortune-cookies-fountain-valley</td>\n",
       "      <td>Fortune Cookies</td>\n",
       "      <td>https://s3-media2.fl.yelpcdn.com/bphoto/vIZIhf...</td>\n",
       "      <td>False</td>\n",
       "      <td>https://www.yelp.com/biz/fortune-cookies-fount...</td>\n",
       "      <td>782</td>\n",
       "      <td>[{'alias': 'sushi', 'title': 'Sushi Bars'}, {'...</td>\n",
       "      <td>3.5</td>\n",
       "      <td>{'latitude': 33.690239, 'longitude': -117.953556}</td>\n",
       "      <td>[delivery, pickup]</td>\n",
       "      <td>{'address1': '18774 Brookhurst St', 'address2'...</td>\n",
       "      <td>+17149625000</td>\n",
       "      <td>(714) 962-5000</td>\n",
       "      <td>43865.373132</td>\n",
       "      <td>$$</td>\n",
       "    </tr>\n",
       "    <tr>\n",
       "      <th>851</th>\n",
       "      <td>GN96gw1wGA3-f4Zh3GpNhg</td>\n",
       "      <td>chado-tea-room-pasadena</td>\n",
       "      <td>Chado Tea Room</td>\n",
       "      <td>https://s3-media3.fl.yelpcdn.com/bphoto/nod1ze...</td>\n",
       "      <td>False</td>\n",
       "      <td>https://www.yelp.com/biz/chado-tea-room-pasade...</td>\n",
       "      <td>1321</td>\n",
       "      <td>[{'alias': 'tea', 'title': 'Tea Rooms'}, {'ali...</td>\n",
       "      <td>4.0</td>\n",
       "      <td>{'latitude': 34.1472001, 'longitude': -118.149...</td>\n",
       "      <td>[delivery]</td>\n",
       "      <td>{'address1': '79 N Raymond Ave', 'address2': '...</td>\n",
       "      <td>+16264312832</td>\n",
       "      <td>(626) 431-2832</td>\n",
       "      <td>21656.399169</td>\n",
       "      <td>$$</td>\n",
       "    </tr>\n",
       "    <tr>\n",
       "      <th>852</th>\n",
       "      <td>WGOJKwHy5fyLvX4vYBvrWQ</td>\n",
       "      <td>tan-cang-newport-seafood-santa-ana-2</td>\n",
       "      <td>Tan Cang Newport Seafood</td>\n",
       "      <td>https://s3-media3.fl.yelpcdn.com/bphoto/U1NxFc...</td>\n",
       "      <td>False</td>\n",
       "      <td>https://www.yelp.com/biz/tan-cang-newport-seaf...</td>\n",
       "      <td>1263</td>\n",
       "      <td>[{'alias': 'chinese', 'title': 'Chinese'}, {'a...</td>\n",
       "      <td>4.0</td>\n",
       "      <td>{'latitude': 33.7452349, 'longitude': -117.928...</td>\n",
       "      <td>[delivery]</td>\n",
       "      <td>{'address1': '4411 W 1st St', 'address2': '', ...</td>\n",
       "      <td>+17145315146</td>\n",
       "      <td>(714) 531-5146</td>\n",
       "      <td>41282.243082</td>\n",
       "      <td>$$</td>\n",
       "    </tr>\n",
       "    <tr>\n",
       "      <th>853</th>\n",
       "      <td>ofVXQRCmtpC4XpbyMSc4Yw</td>\n",
       "      <td>il-dolce-ristorante-costa-mesa</td>\n",
       "      <td>Il Dolce Ristorante</td>\n",
       "      <td>https://s3-media1.fl.yelpcdn.com/bphoto/Qc4kOp...</td>\n",
       "      <td>False</td>\n",
       "      <td>https://www.yelp.com/biz/il-dolce-ristorante-c...</td>\n",
       "      <td>489</td>\n",
       "      <td>[{'alias': 'italian', 'title': 'Italian'}, {'a...</td>\n",
       "      <td>4.0</td>\n",
       "      <td>{'latitude': 33.643625904162, 'longitude': -11...</td>\n",
       "      <td>[delivery]</td>\n",
       "      <td>{'address1': '1902 Harbor Blvd', 'address2': '...</td>\n",
       "      <td>+19492009107</td>\n",
       "      <td>(949) 200-9107</td>\n",
       "      <td>49880.502661</td>\n",
       "      <td>$$</td>\n",
       "    </tr>\n",
       "    <tr>\n",
       "      <th>854</th>\n",
       "      <td>wP2j_yKVsb83WvHVqlrSdg</td>\n",
       "      <td>pacific-food-mart-glendale-5</td>\n",
       "      <td>Pacific Food Mart</td>\n",
       "      <td>https://s3-media2.fl.yelpcdn.com/bphoto/oEmRKG...</td>\n",
       "      <td>False</td>\n",
       "      <td>https://www.yelp.com/biz/pacific-food-mart-gle...</td>\n",
       "      <td>91</td>\n",
       "      <td>[{'alias': 'convenience', 'title': 'Convenienc...</td>\n",
       "      <td>3.0</td>\n",
       "      <td>{'latitude': 34.16032, 'longitude': -118.2641}</td>\n",
       "      <td>[delivery, pickup]</td>\n",
       "      <td>{'address1': '1008 N Pacific Ave', 'address2':...</td>\n",
       "      <td>+18182428352</td>\n",
       "      <td>(818) 242-8352</td>\n",
       "      <td>19855.900457</td>\n",
       "      <td>$</td>\n",
       "    </tr>\n",
       "  </tbody>\n",
       "</table>\n",
       "</div>"
      ],
      "text/plain": [
       "                         id                                 alias  \\\n",
       "850  7hD8bI6vU03APVvmdMjWrg       fortune-cookies-fountain-valley   \n",
       "851  GN96gw1wGA3-f4Zh3GpNhg               chado-tea-room-pasadena   \n",
       "852  WGOJKwHy5fyLvX4vYBvrWQ  tan-cang-newport-seafood-santa-ana-2   \n",
       "853  ofVXQRCmtpC4XpbyMSc4Yw        il-dolce-ristorante-costa-mesa   \n",
       "854  wP2j_yKVsb83WvHVqlrSdg          pacific-food-mart-glendale-5   \n",
       "\n",
       "                         name  \\\n",
       "850           Fortune Cookies   \n",
       "851            Chado Tea Room   \n",
       "852  Tan Cang Newport Seafood   \n",
       "853       Il Dolce Ristorante   \n",
       "854         Pacific Food Mart   \n",
       "\n",
       "                                             image_url  is_closed  \\\n",
       "850  https://s3-media2.fl.yelpcdn.com/bphoto/vIZIhf...      False   \n",
       "851  https://s3-media3.fl.yelpcdn.com/bphoto/nod1ze...      False   \n",
       "852  https://s3-media3.fl.yelpcdn.com/bphoto/U1NxFc...      False   \n",
       "853  https://s3-media1.fl.yelpcdn.com/bphoto/Qc4kOp...      False   \n",
       "854  https://s3-media2.fl.yelpcdn.com/bphoto/oEmRKG...      False   \n",
       "\n",
       "                                                   url  review_count  \\\n",
       "850  https://www.yelp.com/biz/fortune-cookies-fount...           782   \n",
       "851  https://www.yelp.com/biz/chado-tea-room-pasade...          1321   \n",
       "852  https://www.yelp.com/biz/tan-cang-newport-seaf...          1263   \n",
       "853  https://www.yelp.com/biz/il-dolce-ristorante-c...           489   \n",
       "854  https://www.yelp.com/biz/pacific-food-mart-gle...            91   \n",
       "\n",
       "                                            categories  rating  \\\n",
       "850  [{'alias': 'sushi', 'title': 'Sushi Bars'}, {'...     3.5   \n",
       "851  [{'alias': 'tea', 'title': 'Tea Rooms'}, {'ali...     4.0   \n",
       "852  [{'alias': 'chinese', 'title': 'Chinese'}, {'a...     4.0   \n",
       "853  [{'alias': 'italian', 'title': 'Italian'}, {'a...     4.0   \n",
       "854  [{'alias': 'convenience', 'title': 'Convenienc...     3.0   \n",
       "\n",
       "                                           coordinates        transactions  \\\n",
       "850  {'latitude': 33.690239, 'longitude': -117.953556}  [delivery, pickup]   \n",
       "851  {'latitude': 34.1472001, 'longitude': -118.149...          [delivery]   \n",
       "852  {'latitude': 33.7452349, 'longitude': -117.928...          [delivery]   \n",
       "853  {'latitude': 33.643625904162, 'longitude': -11...          [delivery]   \n",
       "854     {'latitude': 34.16032, 'longitude': -118.2641}  [delivery, pickup]   \n",
       "\n",
       "                                              location         phone  \\\n",
       "850  {'address1': '18774 Brookhurst St', 'address2'...  +17149625000   \n",
       "851  {'address1': '79 N Raymond Ave', 'address2': '...  +16264312832   \n",
       "852  {'address1': '4411 W 1st St', 'address2': '', ...  +17145315146   \n",
       "853  {'address1': '1902 Harbor Blvd', 'address2': '...  +19492009107   \n",
       "854  {'address1': '1008 N Pacific Ave', 'address2':...  +18182428352   \n",
       "\n",
       "      display_phone      distance price  \n",
       "850  (714) 962-5000  43865.373132    $$  \n",
       "851  (626) 431-2832  21656.399169    $$  \n",
       "852  (714) 531-5146  41282.243082    $$  \n",
       "853  (949) 200-9107  49880.502661    $$  \n",
       "854  (818) 242-8352  19855.900457     $  "
      ]
     },
     "metadata": {},
     "output_type": "display_data"
    }
   ],
   "source": [
    "final_df = pd.read_json(CAVIARJSON_FILE)\n",
    "display(final_df.head(), final_df.tail())"
   ]
  },
  {
   "cell_type": "code",
   "execution_count": 110,
   "id": "ca069e4b",
   "metadata": {
    "ExecuteTime": {
     "end_time": "2022-07-29T03:42:36.644972Z",
     "start_time": "2022-07-29T03:42:36.552204Z"
    }
   },
   "outputs": [
    {
     "data": {
      "text/plain": [
       "1"
      ]
     },
     "execution_count": 110,
     "metadata": {},
     "output_type": "execute_result"
    }
   ],
   "source": [
    "final_df.duplicated(subset='id').sum()\n",
    "\n"
   ]
  },
  {
   "cell_type": "code",
   "execution_count": 111,
   "id": "3df356b2",
   "metadata": {
    "ExecuteTime": {
     "end_time": "2022-07-29T03:43:26.864512Z",
     "start_time": "2022-07-29T03:43:26.703578Z"
    }
   },
   "outputs": [],
   "source": [
    "final_df.to_csv('Data/final_results_caviar.csv.gz', compression='gzip',index=False)\n",
    "\n"
   ]
  },
  {
   "cell_type": "code",
   "execution_count": null,
   "id": "b4097356",
   "metadata": {},
   "outputs": [],
   "source": []
  }
 ],
 "metadata": {
  "hide_input": false,
  "kernelspec": {
   "display_name": "Python (dojo-env)",
   "language": "python",
   "name": "dojo-env"
  },
  "language_info": {
   "codemirror_mode": {
    "name": "ipython",
    "version": 3
   },
   "file_extension": ".py",
   "mimetype": "text/x-python",
   "name": "python",
   "nbconvert_exporter": "python",
   "pygments_lexer": "ipython3",
   "version": "3.8.13"
  },
  "latex_envs": {
   "LaTeX_envs_menu_present": true,
   "autoclose": false,
   "autocomplete": true,
   "bibliofile": "biblio.bib",
   "cite_by": "apalike",
   "current_citInitial": 1,
   "eqLabelWithNumbers": true,
   "eqNumInitial": 1,
   "hotkeys": {
    "equation": "Ctrl-E",
    "itemize": "Ctrl-I"
   },
   "labels_anchors": false,
   "latex_user_defs": false,
   "report_style_numbering": false,
   "user_envs_cfg": false
  },
  "nbTranslate": {
   "displayLangs": [
    "*"
   ],
   "hotkey": "alt-t",
   "langInMainMenu": true,
   "sourceLang": "en",
   "targetLang": "fr",
   "useGoogleTranslate": true
  },
  "toc": {
   "base_numbering": 1,
   "nav_menu": {},
   "number_sections": false,
   "sideBar": true,
   "skip_h1_title": false,
   "title_cell": "Table of Contents",
   "title_sidebar": "Contents",
   "toc_cell": false,
   "toc_position": {},
   "toc_section_display": true,
   "toc_window_display": false
  },
  "varInspector": {
   "cols": {
    "lenName": 16,
    "lenType": 16,
    "lenVar": 40
   },
   "kernels_config": {
    "python": {
     "delete_cmd_postfix": "",
     "delete_cmd_prefix": "del ",
     "library": "var_list.py",
     "varRefreshCmd": "print(var_dic_list())"
    },
    "r": {
     "delete_cmd_postfix": ") ",
     "delete_cmd_prefix": "rm(",
     "library": "var_list.r",
     "varRefreshCmd": "cat(var_dic_list()) "
    }
   },
   "types_to_exclude": [
    "module",
    "function",
    "builtin_function_or_method",
    "instance",
    "_Feature"
   ],
   "window_display": false
  }
 },
 "nbformat": 4,
 "nbformat_minor": 5
}
